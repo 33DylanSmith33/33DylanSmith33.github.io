{
 "cells": [
  {
   "cell_type": "code",
   "execution_count": 1,
   "metadata": {},
   "outputs": [],
   "source": [
    "import numpy as np\n",
    "import pandas as pd\n",
    "import os"
   ]
  },
  {
   "cell_type": "code",
   "execution_count": 2,
   "metadata": {},
   "outputs": [
    {
     "data": {
      "text/plain": [
       "<module 'Activation' from 'c:\\\\Users\\\\dylan\\\\OneDrive\\\\Desktop\\\\Professional Dev\\\\Project\\\\33DylanSmith33.github.io\\\\NN\\\\src\\\\scratchNN\\\\Activation.py'>"
      ]
     },
     "execution_count": 2,
     "metadata": {},
     "output_type": "execute_result"
    }
   ],
   "source": [
    "# my modules\n",
    "import importlib\n",
    "import mnist_data_loader \n",
    "importlib.reload(mnist_data_loader)\n",
    "from mnist_data_loader import load_training_data, load_testing_data, one_hot_encode_label\n",
    "\n",
    "import Network\n",
    "importlib.reload(Network)\n",
    "from Network import Network\n",
    "\n",
    "import Optimizer\n",
    "importlib.reload(Optimizer)\n",
    "\n",
    "import Layer\n",
    "importlib.reload(Layer)\n",
    "\n",
    "import Activation\n",
    "importlib.reload(Activation)\n"
   ]
  },
  {
   "cell_type": "code",
   "execution_count": 3,
   "metadata": {},
   "outputs": [],
   "source": [
    "train_path = 'data_files/train.csv'\n",
    "test_path = 'data_files/test.csv'"
   ]
  },
  {
   "cell_type": "markdown",
   "metadata": {},
   "source": [
    "# Code to implement Network"
   ]
  },
  {
   "cell_type": "code",
   "execution_count": 4,
   "metadata": {},
   "outputs": [],
   "source": [
    "NN = Network(train_path, test_path)"
   ]
  },
  {
   "cell_type": "code",
   "execution_count": 5,
   "metadata": {},
   "outputs": [
    {
     "name": "stdout",
     "output_type": "stream",
     "text": [
      "(420, 784)\n",
      "784 420\n",
      "(420, 10)\n",
      "420\n"
     ]
    }
   ],
   "source": [
    "print(NN.train_input.shape)\n",
    "print(NN.num_input, NN.num_train_observations)\n",
    "print(NN.train_y.shape)\n",
    "print(NN.num_labels)"
   ]
  },
  {
   "cell_type": "code",
   "execution_count": 6,
   "metadata": {},
   "outputs": [],
   "source": [
    "NN.add(Layer.Dense(input_size=NN.num_input, output_size=128))\n",
    "NN.add(Activation.ReLU())\n",
    "NN.add(Layer.Dense(input_size=128, output_size=10))\n",
    "NN.add(Activation.SoftMax())"
   ]
  },
  {
   "cell_type": "code",
   "execution_count": 7,
   "metadata": {},
   "outputs": [
    {
     "name": "stdout",
     "output_type": "stream",
     "text": [
      "<class 'Layer.Dense'>\n",
      "(128,)\n",
      "(784, 128)\n",
      "<class 'Activation.ReLU'>\n",
      "<class 'Layer.Dense'>\n",
      "(10,)\n",
      "(128, 10)\n",
      "<class 'Activation.SoftMax'>\n"
     ]
    }
   ],
   "source": [
    "for layer in NN.layers:\n",
    "    print(type(layer))\n",
    "    if issubclass(type(layer), (Layer.Dense)):\n",
    "        print(layer.biases.shape)\n",
    "        print(layer.weights.shape)"
   ]
  },
  {
   "cell_type": "markdown",
   "metadata": {},
   "source": [
    "forward pass:\n",
    "- (42000, 784) dot (784, 128) + (128,)"
   ]
  },
  {
   "cell_type": "code",
   "execution_count": 8,
   "metadata": {},
   "outputs": [],
   "source": [
    "output = NN.forward_pass(NN.train_input)"
   ]
  },
  {
   "cell_type": "code",
   "execution_count": 9,
   "metadata": {},
   "outputs": [
    {
     "data": {
      "text/plain": [
       "(420, 10)"
      ]
     },
     "execution_count": 9,
     "metadata": {},
     "output_type": "execute_result"
    }
   ],
   "source": [
    "output.shape"
   ]
  },
  {
   "cell_type": "code",
   "execution_count": 10,
   "metadata": {},
   "outputs": [
    {
     "name": "stdout",
     "output_type": "stream",
     "text": [
      "<class 'Layer.Dense'>\n",
      "(128,)\n",
      "(784, 128)\n",
      "<class 'Activation.ReLU'>\n",
      "(420, 128)\n",
      "<class 'Layer.Dense'>\n",
      "(10,)\n",
      "(128, 10)\n",
      "<class 'Activation.SoftMax'>\n",
      "(420, 10)\n"
     ]
    }
   ],
   "source": [
    "for layer in NN.layers:\n",
    "    print(type(layer))\n",
    "    if issubclass(type(layer), (Layer.Dense)):\n",
    "        print(layer.biases.shape)\n",
    "        print(layer.weights.shape)\n",
    "    elif issubclass(type(layer), (Activation.ReLU)):\n",
    "        print(layer.input.shape)\n",
    "    elif issubclass(type(layer), (Activation.SoftMax)):\n",
    "        print(layer.input.shape)"
   ]
  },
  {
   "cell_type": "code",
   "execution_count": 11,
   "metadata": {},
   "outputs": [
    {
     "name": "stdout",
     "output_type": "stream",
     "text": [
      "  SoftMax back step\n",
      "    grad_output shape:  (420, 10)\n",
      "    input shape:  (420, 10)\n",
      "<class 'Activation.SoftMax'>\n",
      "<class 'Layer.Dense'>\n",
      "  ReLU back step\n",
      "    grad_output shape:  (420, 128)\n",
      "    input shape:  (420, 128)\n",
      "<class 'Activation.ReLU'>\n",
      "<class 'Layer.Dense'>\n"
     ]
    },
    {
     "data": {
      "text/plain": [
       "array([[ 0.00217305, -0.0014661 , -0.00288969, ...,  0.00183744,\n",
       "         0.00105437,  0.00193646],\n",
       "       [ 0.00151962, -0.00075169, -0.00370457, ...,  0.00321869,\n",
       "         0.00125898,  0.00202699],\n",
       "       [ 0.00123632, -0.00167108, -0.00333537, ...,  0.00305332,\n",
       "         0.00093717,  0.0016683 ],\n",
       "       ...,\n",
       "       [ 0.0037411 , -0.00058704, -0.00268073, ...,  0.00228613,\n",
       "         0.00243437,  0.0017742 ],\n",
       "       [ 0.00251718, -0.00122371, -0.00253034, ...,  0.00101912,\n",
       "         0.00085244,  0.00067509],\n",
       "       [ 0.00130352, -0.00150634, -0.00345136, ...,  0.00307797,\n",
       "         0.00101897,  0.00157808]])"
      ]
     },
     "execution_count": 11,
     "metadata": {},
     "output_type": "execute_result"
    }
   ],
   "source": [
    "NN.backward_pass(output)"
   ]
  },
  {
   "cell_type": "code",
   "execution_count": 82,
   "metadata": {},
   "outputs": [
    {
     "name": "stdout",
     "output_type": "stream",
     "text": [
      "[[0.1130209  0.09624661 0.051509   0.12440499 0.19731321 0.09568634\n",
      "  0.07823322 0.16174878 0.03057368 0.05126327]\n",
      " [0.11363454 0.09538257 0.05155662 0.12385626 0.1993287  0.09563252\n",
      "  0.07803592 0.16009049 0.03039475 0.05208764]\n",
      " [0.11280268 0.09491886 0.05167692 0.12417588 0.19946257 0.09471417\n",
      "  0.07735425 0.16353513 0.03026359 0.05109595]\n",
      " [0.11256752 0.09517792 0.05142661 0.12456514 0.19790818 0.09650758\n",
      "  0.07781541 0.16230147 0.03009462 0.05163555]\n",
      " [0.1125579  0.09602904 0.0513156  0.1263202  0.19666518 0.09494167\n",
      "  0.07908617 0.16120651 0.03070348 0.05117425]]\n"
     ]
    }
   ],
   "source": [
    "print(output[0:5])"
   ]
  },
  {
   "cell_type": "code",
   "execution_count": null,
   "metadata": {},
   "outputs": [],
   "source": []
  },
  {
   "cell_type": "code",
   "execution_count": null,
   "metadata": {},
   "outputs": [],
   "source": []
  },
  {
   "cell_type": "code",
   "execution_count": null,
   "metadata": {},
   "outputs": [],
   "source": []
  },
  {
   "cell_type": "code",
   "execution_count": null,
   "metadata": {},
   "outputs": [],
   "source": []
  },
  {
   "cell_type": "code",
   "execution_count": null,
   "metadata": {},
   "outputs": [],
   "source": [
    "\n",
    "# add layers\n",
    "NN.add(Layer.Dense(input_size=NN.num_input, output_size=128))\n",
    "NN.add(Activation.ReLU())\n",
    "NN.add(Layer.Dense(input_size=128, output_size=10))\n",
    "NN.add(Activation.SoftMax())\n",
    "\n",
    "# set optimizer\n",
    "# have to get parameters from??\n",
    "# parameters come from Layer.get_parameters_and_gradients\n",
    "    # list of tuples of (parameters, gradients) -> weights and biases\n",
    "NN.compile(optimizer=Optimizer.SGD(parameters))\n",
    "\n",
    "# fit the model\n",
    "# NN.fit(train_x, train_y, epochs=10, batch_size=32)\n",
    "\n",
    "# Predict\n",
    "# have something to show the input test_x picture\n",
    "# predictions = NN.predict(test_x)"
   ]
  }
 ],
 "metadata": {
  "kernelspec": {
   "display_name": "NN",
   "language": "python",
   "name": "python3"
  },
  "language_info": {
   "codemirror_mode": {
    "name": "ipython",
    "version": 3
   },
   "file_extension": ".py",
   "mimetype": "text/x-python",
   "name": "python",
   "nbconvert_exporter": "python",
   "pygments_lexer": "ipython3",
   "version": "3.12.1"
  }
 },
 "nbformat": 4,
 "nbformat_minor": 2
}
