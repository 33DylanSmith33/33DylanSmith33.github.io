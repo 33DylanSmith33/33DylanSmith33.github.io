{
 "cells": [
  {
   "cell_type": "code",
   "execution_count": 1,
   "metadata": {},
   "outputs": [],
   "source": [
    "import numpy as np\n",
    "import pandas as pd\n",
    "import os"
   ]
  },
  {
   "cell_type": "code",
   "execution_count": 46,
   "metadata": {},
   "outputs": [
    {
     "data": {
      "text/plain": [
       "<module 'Activation' from 'c:\\\\Users\\\\dylan\\\\OneDrive\\\\Desktop\\\\Professional Dev\\\\Project\\\\33DylanSmith33.github.io\\\\NN\\\\src\\\\scratchNN\\\\Activation.py'>"
      ]
     },
     "execution_count": 46,
     "metadata": {},
     "output_type": "execute_result"
    }
   ],
   "source": [
    "# my modules\n",
    "import importlib\n",
    "import mnist_data_loader \n",
    "importlib.reload(mnist_data_loader)\n",
    "from mnist_data_loader import load_training_data, load_testing_data, one_hot_encode_label\n",
    "\n",
    "import Network\n",
    "importlib.reload(Network)\n",
    "from Network import Network\n",
    "\n",
    "import Optimizer\n",
    "importlib.reload(Optimizer)\n",
    "\n",
    "import Layer\n",
    "importlib.reload(Layer)\n",
    "\n",
    "import Activation\n",
    "importlib.reload(Activation)\n"
   ]
  },
  {
   "cell_type": "code",
   "execution_count": 47,
   "metadata": {},
   "outputs": [],
   "source": [
    "train_path = 'data_files/train.csv'\n",
    "test_path = 'data_files/test.csv'"
   ]
  },
  {
   "cell_type": "markdown",
   "metadata": {},
   "source": [
    "# Code to implement Network"
   ]
  },
  {
   "cell_type": "code",
   "execution_count": 48,
   "metadata": {},
   "outputs": [],
   "source": [
    "NN = Network(train_path, test_path)"
   ]
  },
  {
   "cell_type": "code",
   "execution_count": 49,
   "metadata": {},
   "outputs": [
    {
     "name": "stdout",
     "output_type": "stream",
     "text": [
      "(784, 42000)\n",
      "784 42000\n",
      "(10, 42000)\n",
      "10\n"
     ]
    }
   ],
   "source": [
    "print(NN.train_input.shape)\n",
    "print(NN.num_input, NN.num_train_observations)\n",
    "print(NN.train_y.shape)\n",
    "print(NN.num_labels)"
   ]
  },
  {
   "cell_type": "code",
   "execution_count": 50,
   "metadata": {},
   "outputs": [],
   "source": [
    "NN.add(Layer.Dense(input_size=NN.num_input, output_size=128))\n",
    "NN.add(Activation.ReLU())"
   ]
  },
  {
   "cell_type": "code",
   "execution_count": 51,
   "metadata": {},
   "outputs": [
    {
     "data": {
      "text/plain": [
       "(128,)"
      ]
     },
     "execution_count": 51,
     "metadata": {},
     "output_type": "execute_result"
    }
   ],
   "source": [
    "NN.layers[0].biases.shape"
   ]
  },
  {
   "cell_type": "code",
   "execution_count": 66,
   "metadata": {},
   "outputs": [
    {
     "name": "stdout",
     "output_type": "stream",
     "text": [
      "<class 'Layer.Dense'>\n",
      "(128,)\n",
      "(784, 128)\n",
      "<class 'Activation.ReLU'>\n"
     ]
    }
   ],
   "source": [
    "for layer in NN.layers:\n",
    "    print(type(layer))\n",
    "    if issubclass(type(layer), (Layer.Dense)):\n",
    "        print(layer.biases.shape)\n",
    "        print(layer.weights.shape)"
   ]
  },
  {
   "cell_type": "code",
   "execution_count": null,
   "metadata": {},
   "outputs": [],
   "source": []
  },
  {
   "cell_type": "code",
   "execution_count": null,
   "metadata": {},
   "outputs": [],
   "source": []
  },
  {
   "cell_type": "code",
   "execution_count": null,
   "metadata": {},
   "outputs": [],
   "source": []
  },
  {
   "cell_type": "code",
   "execution_count": null,
   "metadata": {},
   "outputs": [],
   "source": []
  },
  {
   "cell_type": "code",
   "execution_count": null,
   "metadata": {},
   "outputs": [],
   "source": [
    "\n",
    "# add layers\n",
    "NN.add(Layer.Dense(input_size=NN.num_input, output_size=128))\n",
    "NN.add(Activation.ReLU())\n",
    "NN.add(Layer.Dense(input_size=128, output_size=10))\n",
    "NN.add(Activation.SoftMax())\n",
    "\n",
    "# set optimizer\n",
    "# have to get parameters from??\n",
    "# parameters come from Layer.get_parameters_and_gradients\n",
    "    # list of tuples of (parameters, gradients) -> weights and biases\n",
    "NN.compile(optimizer=Optimizer.SGD(parameters))\n",
    "\n",
    "# fit the model\n",
    "# NN.fit(train_x, train_y, epochs=10, batch_size=32)\n",
    "\n",
    "# Predict\n",
    "# have something to show the input test_x picture\n",
    "# predictions = NN.predict(test_x)"
   ]
  }
 ],
 "metadata": {
  "kernelspec": {
   "display_name": "NN",
   "language": "python",
   "name": "python3"
  },
  "language_info": {
   "codemirror_mode": {
    "name": "ipython",
    "version": 3
   },
   "file_extension": ".py",
   "mimetype": "text/x-python",
   "name": "python",
   "nbconvert_exporter": "python",
   "pygments_lexer": "ipython3",
   "version": "3.12.1"
  }
 },
 "nbformat": 4,
 "nbformat_minor": 2
}
