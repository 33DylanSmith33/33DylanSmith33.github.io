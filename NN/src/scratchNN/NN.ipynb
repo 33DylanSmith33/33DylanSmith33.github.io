{
 "cells": [
  {
   "cell_type": "markdown",
   "metadata": {},
   "source": [
    "### Dataset Description\n",
    "\n",
    "The dataset for this project is the Digit Description dataset from Kaggle. Each image is 28 pixels by 28 pixels (784 total pixels) and has a digit between 0-9. Each pixel has a single value between 0 and 255 (inclusive) associated with it indicating lightness or darkness, with higher numbers meaning darker. There are two datasets; train.csv and test.csv. \n",
    "\n",
    "The training dataset has 785 columns. The first column, 'label,' is the digit the picture encodes for. The rest of the columns contain the pixel-values of the associated image. Each row corresponds to a different image. Each pixel in the training set has a name like pixelx, where x is an integer between 0 and 783 (inclusive). Each column representing a pixel (discluding label column) has a name pixelx where x is decomposed as `x = i*28 + j`, where i and j are integers between 0 and 27 representing the pixel row and column of the image. The test dataset (28000 images) is the same as the training set, except it does not contain the 'label' column."
   ]
  },
  {
   "cell_type": "markdown",
   "metadata": {},
   "source": [
    "### Goal\n",
    "\n",
    "For each of the 28000 images in the test set, the output should be a single line containing the imageId and the predicted digit. The evaluation metric is the categorization accuracy, or the proportion of test images that are correctly classified."
   ]
  },
  {
   "cell_type": "code",
   "execution_count": 109,
   "metadata": {},
   "outputs": [
    {
     "data": {
      "text/plain": [
       "''"
      ]
     },
     "execution_count": 109,
     "metadata": {},
     "output_type": "execute_result"
    }
   ],
   "source": [
    "# pandas is for reading data\n",
    "import pandas as pd\n",
    "# numpy is for linear algebra\n",
    "import numpy as np\n",
    "from matplotlib import pyplot as plt\n",
    ";\n"
   ]
  },
  {
   "cell_type": "code",
   "execution_count": 110,
   "metadata": {},
   "outputs": [],
   "source": [
    "data = pd.read_csv(\"data_files/train.csv\")"
   ]
  },
  {
   "cell_type": "code",
   "execution_count": 111,
   "metadata": {},
   "outputs": [
    {
     "data": {
      "text/html": [
       "<div>\n",
       "<style scoped>\n",
       "    .dataframe tbody tr th:only-of-type {\n",
       "        vertical-align: middle;\n",
       "    }\n",
       "\n",
       "    .dataframe tbody tr th {\n",
       "        vertical-align: top;\n",
       "    }\n",
       "\n",
       "    .dataframe thead th {\n",
       "        text-align: right;\n",
       "    }\n",
       "</style>\n",
       "<table border=\"1\" class=\"dataframe\">\n",
       "  <thead>\n",
       "    <tr style=\"text-align: right;\">\n",
       "      <th></th>\n",
       "      <th>label</th>\n",
       "      <th>pixel0</th>\n",
       "      <th>pixel1</th>\n",
       "      <th>pixel2</th>\n",
       "      <th>pixel3</th>\n",
       "      <th>pixel4</th>\n",
       "      <th>pixel5</th>\n",
       "      <th>pixel6</th>\n",
       "      <th>pixel7</th>\n",
       "      <th>pixel8</th>\n",
       "      <th>...</th>\n",
       "      <th>pixel774</th>\n",
       "      <th>pixel775</th>\n",
       "      <th>pixel776</th>\n",
       "      <th>pixel777</th>\n",
       "      <th>pixel778</th>\n",
       "      <th>pixel779</th>\n",
       "      <th>pixel780</th>\n",
       "      <th>pixel781</th>\n",
       "      <th>pixel782</th>\n",
       "      <th>pixel783</th>\n",
       "    </tr>\n",
       "  </thead>\n",
       "  <tbody>\n",
       "    <tr>\n",
       "      <th>0</th>\n",
       "      <td>1</td>\n",
       "      <td>0</td>\n",
       "      <td>0</td>\n",
       "      <td>0</td>\n",
       "      <td>0</td>\n",
       "      <td>0</td>\n",
       "      <td>0</td>\n",
       "      <td>0</td>\n",
       "      <td>0</td>\n",
       "      <td>0</td>\n",
       "      <td>...</td>\n",
       "      <td>0</td>\n",
       "      <td>0</td>\n",
       "      <td>0</td>\n",
       "      <td>0</td>\n",
       "      <td>0</td>\n",
       "      <td>0</td>\n",
       "      <td>0</td>\n",
       "      <td>0</td>\n",
       "      <td>0</td>\n",
       "      <td>0</td>\n",
       "    </tr>\n",
       "    <tr>\n",
       "      <th>1</th>\n",
       "      <td>0</td>\n",
       "      <td>0</td>\n",
       "      <td>0</td>\n",
       "      <td>0</td>\n",
       "      <td>0</td>\n",
       "      <td>0</td>\n",
       "      <td>0</td>\n",
       "      <td>0</td>\n",
       "      <td>0</td>\n",
       "      <td>0</td>\n",
       "      <td>...</td>\n",
       "      <td>0</td>\n",
       "      <td>0</td>\n",
       "      <td>0</td>\n",
       "      <td>0</td>\n",
       "      <td>0</td>\n",
       "      <td>0</td>\n",
       "      <td>0</td>\n",
       "      <td>0</td>\n",
       "      <td>0</td>\n",
       "      <td>0</td>\n",
       "    </tr>\n",
       "    <tr>\n",
       "      <th>2</th>\n",
       "      <td>1</td>\n",
       "      <td>0</td>\n",
       "      <td>0</td>\n",
       "      <td>0</td>\n",
       "      <td>0</td>\n",
       "      <td>0</td>\n",
       "      <td>0</td>\n",
       "      <td>0</td>\n",
       "      <td>0</td>\n",
       "      <td>0</td>\n",
       "      <td>...</td>\n",
       "      <td>0</td>\n",
       "      <td>0</td>\n",
       "      <td>0</td>\n",
       "      <td>0</td>\n",
       "      <td>0</td>\n",
       "      <td>0</td>\n",
       "      <td>0</td>\n",
       "      <td>0</td>\n",
       "      <td>0</td>\n",
       "      <td>0</td>\n",
       "    </tr>\n",
       "    <tr>\n",
       "      <th>3</th>\n",
       "      <td>4</td>\n",
       "      <td>0</td>\n",
       "      <td>0</td>\n",
       "      <td>0</td>\n",
       "      <td>0</td>\n",
       "      <td>0</td>\n",
       "      <td>0</td>\n",
       "      <td>0</td>\n",
       "      <td>0</td>\n",
       "      <td>0</td>\n",
       "      <td>...</td>\n",
       "      <td>0</td>\n",
       "      <td>0</td>\n",
       "      <td>0</td>\n",
       "      <td>0</td>\n",
       "      <td>0</td>\n",
       "      <td>0</td>\n",
       "      <td>0</td>\n",
       "      <td>0</td>\n",
       "      <td>0</td>\n",
       "      <td>0</td>\n",
       "    </tr>\n",
       "    <tr>\n",
       "      <th>4</th>\n",
       "      <td>0</td>\n",
       "      <td>0</td>\n",
       "      <td>0</td>\n",
       "      <td>0</td>\n",
       "      <td>0</td>\n",
       "      <td>0</td>\n",
       "      <td>0</td>\n",
       "      <td>0</td>\n",
       "      <td>0</td>\n",
       "      <td>0</td>\n",
       "      <td>...</td>\n",
       "      <td>0</td>\n",
       "      <td>0</td>\n",
       "      <td>0</td>\n",
       "      <td>0</td>\n",
       "      <td>0</td>\n",
       "      <td>0</td>\n",
       "      <td>0</td>\n",
       "      <td>0</td>\n",
       "      <td>0</td>\n",
       "      <td>0</td>\n",
       "    </tr>\n",
       "  </tbody>\n",
       "</table>\n",
       "<p>5 rows × 785 columns</p>\n",
       "</div>"
      ],
      "text/plain": [
       "   label  pixel0  pixel1  pixel2  pixel3  pixel4  pixel5  pixel6  pixel7  \\\n",
       "0      1       0       0       0       0       0       0       0       0   \n",
       "1      0       0       0       0       0       0       0       0       0   \n",
       "2      1       0       0       0       0       0       0       0       0   \n",
       "3      4       0       0       0       0       0       0       0       0   \n",
       "4      0       0       0       0       0       0       0       0       0   \n",
       "\n",
       "   pixel8  ...  pixel774  pixel775  pixel776  pixel777  pixel778  pixel779  \\\n",
       "0       0  ...         0         0         0         0         0         0   \n",
       "1       0  ...         0         0         0         0         0         0   \n",
       "2       0  ...         0         0         0         0         0         0   \n",
       "3       0  ...         0         0         0         0         0         0   \n",
       "4       0  ...         0         0         0         0         0         0   \n",
       "\n",
       "   pixel780  pixel781  pixel782  pixel783  \n",
       "0         0         0         0         0  \n",
       "1         0         0         0         0  \n",
       "2         0         0         0         0  \n",
       "3         0         0         0         0  \n",
       "4         0         0         0         0  \n",
       "\n",
       "[5 rows x 785 columns]"
      ]
     },
     "execution_count": 111,
     "metadata": {},
     "output_type": "execute_result"
    }
   ],
   "source": [
    "data.head()"
   ]
  },
  {
   "cell_type": "code",
   "execution_count": 112,
   "metadata": {},
   "outputs": [
    {
     "name": "stdout",
     "output_type": "stream",
     "text": [
      "<class 'pandas.core.frame.DataFrame'>\n",
      "RangeIndex: 42000 entries, 0 to 41999\n",
      "Columns: 785 entries, label to pixel783\n",
      "dtypes: int64(785)\n",
      "memory usage: 251.5 MB\n"
     ]
    }
   ],
   "source": [
    "data.info()"
   ]
  },
  {
   "cell_type": "code",
   "execution_count": 113,
   "metadata": {},
   "outputs": [],
   "source": [
    "# don't want to be working with pandas df\n",
    "# we want to be working with numpy arrays so we can perform linear algebra manipulations\n",
    "\n",
    "data = np.array(data)"
   ]
  },
  {
   "cell_type": "code",
   "execution_count": 114,
   "metadata": {},
   "outputs": [],
   "source": [
    "m,n = data.shape\n",
    "\n",
    "# In order to avoid overfitting, we want to randomize the data and then split it into train and dev\n",
    "np.random.shuffle(data)\n",
    "\n",
    "# transpose the data so that each column is a row (easier)\n",
    "data_dev = data[0:1000].T\n",
    "# each column is now an image\n",
    "# first row is now labels\n",
    "# following rows (783) are each pixel\n",
    "Y_dev = data_dev[0]\n",
    "X_dev = data_dev[1:]\n",
    "# normalize data\n",
    "X_dev = X_dev / 255\n",
    "\n",
    "data_train = data[1000:].T\n",
    "Y_train = data_train[0]\n",
    "X_train = data_train[1:n]\n",
    "X_train = X_train / 255\n",
    "\n",
    "\n",
    "\n"
   ]
  },
  {
   "cell_type": "code",
   "execution_count": 115,
   "metadata": {},
   "outputs": [
    {
     "data": {
      "text/plain": [
       "32185000"
      ]
     },
     "execution_count": 115,
     "metadata": {},
     "output_type": "execute_result"
    }
   ],
   "source": [
    "data_train.size"
   ]
  },
  {
   "cell_type": "code",
   "execution_count": 157,
   "metadata": {},
   "outputs": [
    {
     "name": "stdout",
     "output_type": "stream",
     "text": [
      "X_train:  (784, 41000)\n",
      "Y_train:  (41000,)\n"
     ]
    }
   ],
   "source": [
    "print('X_train: ', X_train.shape)\n",
    "print('Y_train: ', Y_train.shape)"
   ]
  },
  {
   "cell_type": "code",
   "execution_count": 131,
   "metadata": {},
   "outputs": [],
   "source": [
    "def init_params():\n",
    "    # random.randn makes dist between -.5 and .5\n",
    "    # wi is the weight vector (# second layer neurons, # first layer neurons)\n",
    "        # each input neuron (784) connects to each output neuron (10)\n",
    "    # bi is the bias in the output layer neurons\n",
    "    w1 = np.random.rand(10,784) - 0.5\n",
    "    b1 = np.random.rand(10,1) - 0.5\n",
    "    w2 = np.random.rand(10,10) - 0.5\n",
    "    b2 = np.random.rand(10,1) - 0.5\n",
    "    return w1, b1, w2, b2"
   ]
  },
  {
   "cell_type": "code",
   "execution_count": 133,
   "metadata": {},
   "outputs": [],
   "source": [
    "w1, b1, w2, b2 = init_params()"
   ]
  },
  {
   "cell_type": "code",
   "execution_count": 155,
   "metadata": {},
   "outputs": [],
   "source": [
    "def ReLU(Z):\n",
    "    # maximum is element-wise so it runs that calc for each element in Z \n",
    "    return np.maximum(Z, 0)\n",
    "\n",
    "def softmax(Z):\n",
    "    a = np.exp(Z)\n",
    "    print(\"a: \", a.shape)\n",
    "    print(\"np sum: \", np.sum(a))\n",
    "    print(\"regular sum: \", sum(a))\n",
    "    nump = np.sum(a)\n",
    "    reg = sum(a)\n",
    "    print(\"nump: \", type(nump), nump.shape)\n",
    "    print(\"reg: \", type(reg), reg.shape)\n",
    "\n",
    "\n",
    "    return np.exp(Z) / sum(np.exp(Z))"
   ]
  },
  {
   "cell_type": "code",
   "execution_count": 147,
   "metadata": {},
   "outputs": [],
   "source": [
    "# left off at 16:54\n",
    "def forward_prop(w1, b1, w2, b2, X):\n",
    "    # np uses broadcasting to add a (10,1) array to a (10,90) array\n",
    "    # effectively replicates the (10,1) array 90 times to match the shape of the (10,90) array\n",
    "    print(\"Forward Propogation\")\n",
    "    z1 = w1.dot(X) + b1\n",
    "    print(\"z1: \", z1.shape)\n",
    "    A1 = ReLU(z1)\n",
    "    print(\"A1: \", A1.shape)\n",
    "    z2 = w2.dot(A1) + b2\n",
    "    print(\"z2: \", z2.shape)\n",
    "    A2 = softmax(z2)\n",
    "    print(\"A2: \", A2.shape)\n",
    "    print()\n",
    "\n",
    "    return z1, A1, z2, A2"
   ]
  },
  {
   "cell_type": "code",
   "execution_count": 121,
   "metadata": {},
   "outputs": [],
   "source": [
    "# transform a vector Y of class labels into a one-hot encoded matrix\n",
    "# one-hot encoding is a common way to represent categorical variables as binary vectors \n",
    "# Y is going to be an array (mx1) where each element is the predicted class for the equivalent instance column of the input data array\n",
    "def one_hot(Y):\n",
    "    # np.zeros line creates a 2D array of zeros with shape determined by number of samples and number of unique classes   \n",
    "        # y.size returns the total number of elements in Y which represents the number of samples or instances\n",
    "        # Y.max() + 1 calculates the max value in Y and adds 1 to determine the number of unique classes\n",
    "            # adding one is necessary because the classes start from 0 (0-9)\n",
    "    ohY = np.zeros((Y.size, Y.max()+1))\n",
    "    # \"for each row, go to the column specified by the label in Y and set it equal to 1\"\n",
    "    # by indexing ohY like this, we are effectively selecting one position per row, determined by the class label in Y\n",
    "    # each row in ohY corresponds to a sample in Y and each column in ohY corresponds to a class\n",
    "    # for each row in ohY, the column corresponding to its class label is set to 1 (all other columns remain 0)\n",
    "        #  np.arange(Y.size) generates an array of indices from 0 to Y.size - 1 corresponding to each sample in Y --> specifies what row to access\n",
    "        # Y contains the class label for each sample\n",
    "            # when used as an index, Y selects the column in ohY that corresponds to its class label\n",
    "    # \n",
    "    ohY[np.arange(Y.size), Y] = 1\n",
    "    # transpose because we want each column to be a sample not each row\n",
    "    return ohY.T\n",
    "\n",
    "def deriv_ReLU(Z):\n",
    "    # relu has deriv of 1 for x > 0 (because x = x) and 0 for x <=0 (because x = 0)\n",
    "    # this works because booleans are converted to 1 for true and 0 for false so if a number is positive then its deriv was 1\n",
    "    # since\n",
    "    return Z > 0"
   ]
  },
  {
   "cell_type": "code",
   "execution_count": 122,
   "metadata": {},
   "outputs": [],
   "source": [
    "# !!!! print out the shape of all of these matrices as they are made to make sure sizing is correct for all the matmults"
   ]
  },
  {
   "cell_type": "code",
   "execution_count": 145,
   "metadata": {},
   "outputs": [],
   "source": [
    "def back_prop(z1, A1, z2, A2, w2, X, Y):\n",
    "    print('Back Propogation')\n",
    "    m = Y.size\n",
    "    print(\"Y.size: \", Y.size)\n",
    "    ohY = one_hot(Y)\n",
    "    print(ohY, '\\n')\n",
    "    print(\"ohY: \", ohY.size)\n",
    "    dz2 = A2 - ohY\n",
    "    print('A2: ', A2.shape)\n",
    "    print('ohY: ', ohY.shape)\n",
    "    print('dz2: ', dz2.shape)\n",
    "    dw2 = 1/m * dz2.dot(A1.T)\n",
    "    print('A1.T: ', A1.T.shape)\n",
    "    print('dw2: ', dw2.shape)\n",
    "    db2 = 1/m * np.sum(dz2, axis=1)\n",
    "    print('db2: ', db2.shape)\n",
    "    # I don't understand this next part\n",
    "    dz1 = w2.T.dot(dz2) * deriv_ReLU(z1)\n",
    "    print('w2.T: ', w2.T.shape)\n",
    "    print('z1: ', z1.shape)\n",
    "    print('dz1: ', dz1.shape)\n",
    "    dw1 = 1/m * dz1.dot(X.T)\n",
    "    print('X.T: ', X.T.shape)\n",
    "    print('dw1: ', dw1.shape)\n",
    "    db1 = 1/m * np.sum(dz1, axis=1)\n",
    "    print('db1: ', db1.shape)\n",
    "    return dw1, db1, dw2, db2"
   ]
  },
  {
   "cell_type": "code",
   "execution_count": 124,
   "metadata": {},
   "outputs": [],
   "source": [
    "def update_params(W1, b1, W2, b2, dW1, db1, dW2, db2, alpha):\n",
    "    W1 = W1 - alpha * dW1\n",
    "    b1 = b1 - alpha * db1.reshape(-1,1)    \n",
    "    W2 = W2 - alpha * dW2  \n",
    "    b2 = b2 - alpha * db2.reshape(-1,1)    \n",
    "    return W1, b1, W2, b2\n"
   ]
  },
  {
   "cell_type": "code",
   "execution_count": 125,
   "metadata": {},
   "outputs": [],
   "source": [
    "def get_predictions(A2):\n",
    "    return np.argmax(A2, 0)\n",
    "\n",
    "def get_accuracy(predictions, Y):\n",
    "    print(predictions, Y)\n",
    "    return np.sum(predictions==Y) / Y.size\n",
    "\n",
    "\n",
    "def gradient_descent(X, Y, iterations, alpha):\n",
    "    w1, b1, w2, b2 = init_params()\n",
    "    for i in range(iterations):\n",
    "        z1, A1, z2, A2 = forward_prop(w1, b1, w2, b2, X)\n",
    "        dw1, db1, dw2, db2 = back_prop(z1, A1, z2, A2, w2, X, Y)\n",
    "        w1, b1, w2, b2 = update_params(w1, b1, w2, b2, dw1, db1, dw2, db2, alpha)\n",
    "        if (i%10) == 0:\n",
    "            print(\"Iteration: \", i)\n",
    "            print(f\"Accuracy: {get_accuracy(get_predictions(A2), Y)}\")\n",
    "            print()\n",
    "    print('w1: ', w1.shape)\n",
    "    print('b1: ', b1.shape)\n",
    "    print('w2: ', w2.shape)\n",
    "    print('b2: ', b2.shape)\n",
    "    return w1, b1, w2, b2"
   ]
  },
  {
   "cell_type": "code",
   "execution_count": 156,
   "metadata": {},
   "outputs": [
    {
     "name": "stdout",
     "output_type": "stream",
     "text": [
      "Forward Propogation\n",
      "z1:  (10, 41000)\n",
      "A1:  (10, 41000)\n",
      "z2:  (10, 41000)\n",
      "a:  (10, 41000)\n",
      "np sum:  977974.7422236332\n",
      "regular sum:  [18.28837951 16.84779586 38.74916146 ... 22.39813265 36.96516505\n",
      " 13.81445062]\n",
      "nump:  <class 'numpy.float64'> ()\n",
      "reg:  <class 'numpy.ndarray'> (41000,)\n",
      "A2:  (10, 41000)\n",
      "\n",
      "Back Propogation\n",
      "Y.size:  41000\n",
      "[[0. 0. 0. ... 0. 0. 1.]\n",
      " [0. 0. 1. ... 0. 0. 0.]\n",
      " [1. 0. 0. ... 0. 1. 0.]\n",
      " ...\n",
      " [0. 0. 0. ... 0. 0. 0.]\n",
      " [0. 0. 0. ... 0. 0. 0.]\n",
      " [0. 0. 0. ... 0. 0. 0.]] \n",
      "\n",
      "ohY:  410000\n",
      "A2:  (10, 41000)\n",
      "ohY:  (10, 41000)\n",
      "dz2:  (10, 41000)\n",
      "A1.T:  (41000, 10)\n",
      "dw2:  (10, 10)\n",
      "db2:  (10,)\n",
      "w2.T:  (10, 10)\n",
      "z1:  (10, 41000)\n",
      "dz1:  (10, 41000)\n",
      "X.T:  (41000, 784)\n",
      "dw1:  (10, 784)\n",
      "db1:  (10,)\n",
      "Iteration:  0\n",
      "[5 2 2 ... 2 6 2] [2 3 1 ... 6 2 0]\n",
      "Accuracy: 0.12292682926829268\n",
      "\n",
      "w1:  (10, 784)\n",
      "b1:  (10, 1)\n",
      "w2:  (10, 10)\n",
      "b2:  (10, 1)\n"
     ]
    }
   ],
   "source": [
    "w1, b1, w2, b2 = gradient_descent(X_train, Y_train, 1, .05)"
   ]
  },
  {
   "cell_type": "code",
   "execution_count": null,
   "metadata": {},
   "outputs": [],
   "source": []
  }
 ],
 "metadata": {
  "kernelspec": {
   "display_name": "base",
   "language": "python",
   "name": "python3"
  },
  "language_info": {
   "codemirror_mode": {
    "name": "ipython",
    "version": 3
   },
   "file_extension": ".py",
   "mimetype": "text/x-python",
   "name": "python",
   "nbconvert_exporter": "python",
   "pygments_lexer": "ipython3",
   "version": "3.12.1"
  }
 },
 "nbformat": 4,
 "nbformat_minor": 2
}
